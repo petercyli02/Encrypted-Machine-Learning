{
 "cells": [
  {
   "cell_type": "markdown",
   "id": "957c4303",
   "metadata": {},
   "source": [
    "Multiclass classification using the Corporate credit rating dataset"
   ]
  },
  {
   "cell_type": "code",
   "execution_count": 1,
   "id": "cb67eee3",
   "metadata": {},
   "outputs": [],
   "source": [
    "# Import relevant libraries\n",
    "\n",
    "import pandas as pd\n",
    "import numpy as np\n",
    "import matplotlib.pyplot as plt\n",
    "%matplotlib inline"
   ]
  },
  {
   "cell_type": "code",
   "execution_count": 2,
   "id": "1da689d2",
   "metadata": {},
   "outputs": [],
   "source": [
    "# Load in Corporate Credit Rating dataset as a Pandas dataframe\n",
    "\n",
    "df = pd.read_csv('ratings.csv')"
   ]
  },
  {
   "cell_type": "code",
   "execution_count": 3,
   "id": "6984d84a",
   "metadata": {
    "scrolled": false
   },
   "outputs": [
    {
     "data": {
      "text/html": [
       "<div>\n",
       "<style scoped>\n",
       "    .dataframe tbody tr th:only-of-type {\n",
       "        vertical-align: middle;\n",
       "    }\n",
       "\n",
       "    .dataframe tbody tr th {\n",
       "        vertical-align: top;\n",
       "    }\n",
       "\n",
       "    .dataframe thead th {\n",
       "        text-align: right;\n",
       "    }\n",
       "</style>\n",
       "<table border=\"1\" class=\"dataframe\">\n",
       "  <thead>\n",
       "    <tr style=\"text-align: right;\">\n",
       "      <th></th>\n",
       "      <th>spid</th>\n",
       "      <th>rating</th>\n",
       "      <th>COMMEQTA</th>\n",
       "      <th>LLPLOANS</th>\n",
       "      <th>COSTTOINCOME</th>\n",
       "      <th>ROE</th>\n",
       "      <th>LIQASSTA</th>\n",
       "      <th>SIZE</th>\n",
       "    </tr>\n",
       "  </thead>\n",
       "  <tbody>\n",
       "    <tr>\n",
       "      <th>0</th>\n",
       "      <td>141126</td>\n",
       "      <td>7</td>\n",
       "      <td>0.088445</td>\n",
       "      <td>0.057333</td>\n",
       "      <td>0.582160</td>\n",
       "      <td>0.177753</td>\n",
       "      <td>0.374932</td>\n",
       "      <td>18.818966</td>\n",
       "    </tr>\n",
       "    <tr>\n",
       "      <th>1</th>\n",
       "      <td>342066</td>\n",
       "      <td>5</td>\n",
       "      <td>0.055974</td>\n",
       "      <td>0.009640</td>\n",
       "      <td>0.526015</td>\n",
       "      <td>-0.122580</td>\n",
       "      <td>0.497892</td>\n",
       "      <td>19.072266</td>\n",
       "    </tr>\n",
       "    <tr>\n",
       "      <th>2</th>\n",
       "      <td>366790</td>\n",
       "      <td>10</td>\n",
       "      <td>0.154322</td>\n",
       "      <td>0.014402</td>\n",
       "      <td>2.084550</td>\n",
       "      <td>-0.166647</td>\n",
       "      <td>0.087426</td>\n",
       "      <td>16.075995</td>\n",
       "    </tr>\n",
       "    <tr>\n",
       "      <th>3</th>\n",
       "      <td>146854</td>\n",
       "      <td>1</td>\n",
       "      <td>0.026977</td>\n",
       "      <td>0.002951</td>\n",
       "      <td>0.248881</td>\n",
       "      <td>0.102982</td>\n",
       "      <td>0.457657</td>\n",
       "      <td>18.101099</td>\n",
       "    </tr>\n",
       "    <tr>\n",
       "      <th>4</th>\n",
       "      <td>319262</td>\n",
       "      <td>2</td>\n",
       "      <td>0.096891</td>\n",
       "      <td>0.002645</td>\n",
       "      <td>0.544106</td>\n",
       "      <td>0.178183</td>\n",
       "      <td>0.148163</td>\n",
       "      <td>15.758143</td>\n",
       "    </tr>\n",
       "  </tbody>\n",
       "</table>\n",
       "</div>"
      ],
      "text/plain": [
       "     spid  rating  COMMEQTA  LLPLOANS  COSTTOINCOME       ROE  LIQASSTA  \\\n",
       "0  141126       7  0.088445  0.057333      0.582160  0.177753  0.374932   \n",
       "1  342066       5  0.055974  0.009640      0.526015 -0.122580  0.497892   \n",
       "2  366790      10  0.154322  0.014402      2.084550 -0.166647  0.087426   \n",
       "3  146854       1  0.026977  0.002951      0.248881  0.102982  0.457657   \n",
       "4  319262       2  0.096891  0.002645      0.544106  0.178183  0.148163   \n",
       "\n",
       "        SIZE  \n",
       "0  18.818966  \n",
       "1  19.072266  \n",
       "2  16.075995  \n",
       "3  18.101099  \n",
       "4  15.758143  "
      ]
     },
     "execution_count": 3,
     "metadata": {},
     "output_type": "execute_result"
    }
   ],
   "source": [
    "# Visualise dataset\n",
    "\n",
    "df.head()\n",
    "\n",
    "# 'rating' is the response variable"
   ]
  },
  {
   "cell_type": "code",
   "execution_count": 4,
   "id": "3a502a77",
   "metadata": {
    "scrolled": false
   },
   "outputs": [
    {
     "data": {
      "text/plain": [
       "7     500\n",
       "5     500\n",
       "10    500\n",
       "1     500\n",
       "2     500\n",
       "4     500\n",
       "8     500\n",
       "3     500\n",
       "9     500\n",
       "6     500\n",
       "Name: rating, dtype: int64"
      ]
     },
     "execution_count": 4,
     "metadata": {},
     "output_type": "execute_result"
    }
   ],
   "source": [
    "# Confirms that it is a balanced dataset\n",
    "\n",
    "df['rating'].value_counts()"
   ]
  },
  {
   "cell_type": "code",
   "execution_count": 5,
   "id": "cc327d38",
   "metadata": {},
   "outputs": [],
   "source": [
    "df.drop(['spid'], axis=1, inplace=True)  # The 'spid' is an identifier given to each sample, and has no use for finding patterns, hence we drop it\n",
    "\n",
    "X = df.loc[:, df.columns != 'rating']  # Selects all columns apart from 'rating' as X, the explanatory variables\n",
    "y = df.loc[:, df.columns == 'rating']  # Selects rating as y, the response variable"
   ]
  },
  {
   "cell_type": "code",
   "execution_count": 6,
   "id": "4a78e1e9",
   "metadata": {},
   "outputs": [],
   "source": [
    "# Split X and y into training and test datasets and convert to numpy\n",
    "\n",
    "from sklearn.model_selection import train_test_split\n",
    "\n",
    "X_train, X_test, y_train, y_test = train_test_split(X, y, test_size=0.33, random_state=0, stratify=y)\n",
    "X_train = X_train.to_numpy()\n",
    "X_test = X_test.to_numpy()\n",
    "y_train = y_train.to_numpy()\n",
    "y_test = y_test.to_numpy()"
   ]
  },
  {
   "cell_type": "code",
   "execution_count": 7,
   "id": "e7b4f6a0",
   "metadata": {},
   "outputs": [],
   "source": [
    "# Import the relevant modules from Concrete ML\n",
    "\n",
    "from sklearn.ensemble import RandomForestClassifier as SklearnRandomForestClassifier\n",
    "from concrete.ml.sklearn import RandomForestClassifier as ConcreteRandomForestClassifier\n",
    "from xgboost.sklearn import XGBClassifier as SklearnXGBClassifier\n",
    "from concrete.ml.sklearn import XGBClassifier as ConcreteXGBClassifier\n",
    "from sklearn.model_selection import GridSearchCV, ShuffleSplit"
   ]
  },
  {
   "cell_type": "markdown",
   "id": "3ce73b93",
   "metadata": {},
   "source": [
    "XGBoost"
   ]
  },
  {
   "cell_type": "code",
   "execution_count": 8,
   "id": "34164d72",
   "metadata": {},
   "outputs": [],
   "source": [
    "# XGBoost requires the labels to be in the range [0, 9]\n",
    "# This should only be ran once\n",
    "\n",
    "y_train, y_test = y_train - 1, y_test - 1"
   ]
  },
  {
   "cell_type": "markdown",
   "id": "46315388",
   "metadata": {},
   "source": [
    "Below is the concise training pipeline for Concrete ML's implemenmtation of XGBoost:\n",
    "\n",
    "(includes hyperparameter tuning)"
   ]
  },
  {
   "cell_type": "code",
   "execution_count": 9,
   "id": "57b8483a",
   "metadata": {},
   "outputs": [],
   "source": [
    "# Parameter grid used for GridSearchCV\n",
    "  \n",
    "param_grid = {\n",
    "  \n",
    "  \"max_depth\": list(range(1, 5)),\n",
    "  \n",
    "  \"n_estimators\": list(range(1, 201, 20)),  \n",
    "  \n",
    "  \"learning_rate\": [0.01, 0.1, 1],\n",
    "  \n",
    "  \"n_bits\": [3]  # 'n_bits' controls how many bits are used to quantise each value; generally more bits mean better accuracy, but slower to run   \n",
    "} \n",
    "\n",
    "# We use shuffle split for cross validation\n",
    "cv = ShuffleSplit(n_splits=5, test_size=0.3, random_state=0)"
   ]
  },
  {
   "cell_type": "code",
   "execution_count": null,
   "id": "426c120e",
   "metadata": {
    "scrolled": true
   },
   "outputs": [],
   "source": [
    "# Create a grid search variable and pass in the relevant arguments,\n",
    "# then fit the variable with the training data\n",
    "\n",
    "concrete_grid_search = GridSearchCV(\n",
    "    ConcreteXGBClassifier(), param_grid, cv=cv, scoring='roc_auc'\n",
    ")\n",
    "concrete_grid_search.fit(X_train, y_train)"
   ]
  },
  {
   "cell_type": "code",
   "execution_count": 11,
   "id": "531decaf",
   "metadata": {},
   "outputs": [],
   "source": [
    "# Set of optimal parameters for \n",
    "concrete_best_params = concrete_grid_search.best_params_"
   ]
  },
  {
   "cell_type": "code",
   "execution_count": 12,
   "id": "1d03ee9b",
   "metadata": {},
   "outputs": [],
   "source": [
    "# Now define the actual XGBoost model using optimised parameters\n",
    "concrete_model = ConcreteXGBClassifier(**concrete_best_params)"
   ]
  },
  {
   "cell_type": "code",
   "execution_count": 13,
   "id": "14890fc0",
   "metadata": {
    "scrolled": false
   },
   "outputs": [
    {
     "data": {
      "text/plain": [
       "XGBClassifier(base_score=0.5, booster='gbtree', colsample_bylevel=1,\n",
       "              colsample_bynode=1, colsample_bytree=1, eval_metric='logloss',\n",
       "              gamma=0, gpu_id=-1, interaction_constraints='',\n",
       "              learning_rate=0.01, max_delta_step=0, max_depth=1,\n",
       "              min_child_weight=1, monotone_constraints='()', n_bits=3,\n",
       "              n_estimators=1, n_jobs=8, num_parallel_tree=1,\n",
       "              objective='multi:softprob', predictor='auto', random_state=0,\n",
       "              reg_alpha=0, reg_lambda=1, subsample=1, tree_method='exact',\n",
       "              validate_parameters=1)"
      ]
     },
     "execution_count": 13,
     "metadata": {},
     "output_type": "execute_result"
    }
   ],
   "source": [
    "# Training the actual model with the training data\n",
    "concrete_model.fit(X_train, y_train)"
   ]
  },
  {
   "cell_type": "code",
   "execution_count": 14,
   "id": "11a37c33",
   "metadata": {},
   "outputs": [],
   "source": [
    "# Compile the model to generate a FHE circuit\n",
    "\n",
    "concrete_model.compile(X_train[100:])"
   ]
  },
  {
   "cell_type": "code",
   "execution_count": 15,
   "id": "1a43c347",
   "metadata": {},
   "outputs": [],
   "source": [
    "# Generate an array containing the random permutation of integers in [0,49]\n",
    "n_sample_to_test_fhe = 50\n",
    "idx_test = np.random.choice(X_test.shape[0], n_sample_to_test_fhe, replace=False)\n",
    "\n",
    "# This is so we can select a small random sample of size 'n_sample_to_test_fhe'\n",
    "# in FHE, for a relatively quick test of model accuracy\n",
    "\n",
    "X_test_fhe = X_test[idx_test]\n",
    "y_test_fhe = y_test[idx_test]"
   ]
  },
  {
   "cell_type": "code",
   "execution_count": null,
   "id": "c581e7f3",
   "metadata": {
    "scrolled": true
   },
   "outputs": [],
   "source": [
    "# Train the same model from sklearn, and evaluate the accuracy\n",
    "\n",
    "param_grid_sklearn = {\n",
    "  \n",
    "  \"max_depth\": list(range(1, 5)),\n",
    "  \n",
    "  \"n_estimators\": list(range(1, 201, 20)),  # Tune the number of decision trees used in XGBoost. Default is 100\n",
    "  \n",
    "  \"learning_rate\": [0.01, 0.1, 1],\n",
    "  \n",
    "  \"eval_metric\": [\"logloss\"]\n",
    "} \n",
    "\n",
    "sklearn_grid_search = GridSearchCV(\n",
    "    SklearnXGBClassifier(), param_grid_sklearn, cv=cv, scoring='roc_auc'\n",
    ").fit(X_train, y_train)\n",
    "\n",
    "sklearn_best_params = sklearn_grid_search.best_params_\n",
    "sklearn_model = SklearnXGBClassifier(**sklearn_best_params)\n",
    "sklearn_model.fit(X_train, y_train)"
   ]
  },
  {
   "cell_type": "code",
   "execution_count": 26,
   "id": "d99e53db",
   "metadata": {},
   "outputs": [],
   "source": [
    "y_pred_clear = sklearn_model.predict(X_test_fhe)"
   ]
  },
  {
   "cell_type": "code",
   "execution_count": 27,
   "id": "f7f2157c",
   "metadata": {},
   "outputs": [],
   "source": [
    "y_pred_clear_q = concrete_model.predict(X_test_fhe)"
   ]
  },
  {
   "cell_type": "code",
   "execution_count": 28,
   "id": "0ddcd466",
   "metadata": {},
   "outputs": [],
   "source": [
    "y_preds_fhe = concrete_model.predict(X_test_fhe, execute_in_fhe=True)"
   ]
  },
  {
   "cell_type": "code",
   "execution_count": 30,
   "id": "04bc0ea4",
   "metadata": {},
   "outputs": [
    {
     "name": "stdout",
     "output_type": "stream",
     "text": [
      "Accuracy score of clear model: 0.48\n",
      "Accuracy score of clear quantised model: 0.32\n",
      "Accuracy score of FHE model: 0.32\n"
     ]
    }
   ],
   "source": [
    "from sklearn.metrics import accuracy_score\n",
    "\n",
    "print(f'Accuracy score of clear model: {accuracy_score(y_test_fhe, y_pred_clear)}')\n",
    "print(f'Accuracy score of clear quantised model: {accuracy_score(y_test_fhe, y_pred_clear_q)}')\n",
    "print(f'Accuracy score of FHE model: {accuracy_score(y_test_fhe, y_preds_fhe)}')"
   ]
  },
  {
   "cell_type": "markdown",
   "id": "d390aee5",
   "metadata": {},
   "source": [
    "Random Forest"
   ]
  },
  {
   "cell_type": "code",
   "execution_count": null,
   "id": "bf65084c",
   "metadata": {},
   "outputs": [],
   "source": []
  }
 ],
 "metadata": {
  "kernelspec": {
   "display_name": "Python 3 (ipykernel)",
   "language": "python",
   "name": "python3"
  },
  "language_info": {
   "codemirror_mode": {
    "name": "ipython",
    "version": 3
   },
   "file_extension": ".py",
   "mimetype": "text/x-python",
   "name": "python",
   "nbconvert_exporter": "python",
   "pygments_lexer": "ipython3",
   "version": "3.8.10"
  }
 },
 "nbformat": 4,
 "nbformat_minor": 5
}
